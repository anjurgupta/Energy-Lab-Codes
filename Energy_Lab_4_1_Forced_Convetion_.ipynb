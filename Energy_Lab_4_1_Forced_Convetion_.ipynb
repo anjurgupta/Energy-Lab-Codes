{
  "nbformat": 4,
  "nbformat_minor": 0,
  "metadata": {
    "colab": {
      "provenance": [],
      "authorship_tag": "ABX9TyOTcsOXBWMB7wZAfoFCePsd",
      "include_colab_link": true
    },
    "kernelspec": {
      "name": "python3",
      "display_name": "Python 3"
    },
    "language_info": {
      "name": "python"
    }
  },
  "cells": [
    {
      "cell_type": "markdown",
      "metadata": {
        "id": "view-in-github",
        "colab_type": "text"
      },
      "source": [
        "<a href=\"https://colab.research.google.com/github/anjurgupta/Energy-Lab-Codes/blob/main/Energy_Lab_4_1_Forced_Convetion_.ipynb\" target=\"_parent\"><img src=\"https://colab.research.google.com/assets/colab-badge.svg\" alt=\"Open In Colab\"/></a>"
      ]
    },
    {
      "cell_type": "markdown",
      "source": [
        "**Section 1: Import Required Libraries**\n",
        "\n",
        "*We will start by importing the Python libraries that help us build and train machine learning models, handle data, and create plots for visualization.*"
      ],
      "metadata": {
        "id": "riY5OG-IYo4t"
      }
    },
    {
      "cell_type": "code",
      "source": [
        "import tensorflow as tf\n",
        "from tensorflow import keras\n",
        "from tensorflow.keras import layers\n",
        "\n",
        "# Import preprocessing layers needed\n",
        "from tensorflow.keras.layers import Normalization, TextVectorization\n",
        "\n",
        "import numpy as np\n",
        "import matplotlib.pyplot as plt\n",
        "import pandas as pd\n",
        "import seaborn as sns\n",
        "import io\n",
        "import datetime\n",
        "from google.colab import files\n",
        "\n",
        "# Make numpy printouts easier to read\n",
        "np.set_printoptions(precision=3, suppress=True)"
      ],
      "metadata": {
        "id": "navfXpcFYp3F"
      },
      "execution_count": null,
      "outputs": []
    },
    {
      "cell_type": "markdown",
      "source": [
        "**Section 2: Upload and Load Dataset**\n",
        "\n",
        "*In this step, we will upload a dataset into our Colab environment and load it into Python. After that, we’ll take a quick look at the data to understand what it contains.*"
      ],
      "metadata": {
        "id": "rhJegaTDYxW1"
      }
    },
    {
      "cell_type": "code",
      "source": [
        "uploaded = files.upload()  # Upload 'forced_convection_data.csv'\n"
      ],
      "metadata": {
        "colab": {
          "base_uri": "https://localhost:8080/",
          "height": 73
        },
        "id": "eiqoyDS77PUP",
        "outputId": "c40d4b01-20b7-4ace-b72e-7c0cb9d22a73"
      },
      "execution_count": null,
      "outputs": [
        {
          "output_type": "display_data",
          "data": {
            "text/plain": [
              "<IPython.core.display.HTML object>"
            ],
            "text/html": [
              "\n",
              "     <input type=\"file\" id=\"files-69e05287-6517-4310-83ee-abd398638e0b\" name=\"files[]\" multiple disabled\n",
              "        style=\"border:none\" />\n",
              "     <output id=\"result-69e05287-6517-4310-83ee-abd398638e0b\">\n",
              "      Upload widget is only available when the cell has been executed in the\n",
              "      current browser session. Please rerun this cell to enable.\n",
              "      </output>\n",
              "      <script>// Copyright 2017 Google LLC\n",
              "//\n",
              "// Licensed under the Apache License, Version 2.0 (the \"License\");\n",
              "// you may not use this file except in compliance with the License.\n",
              "// You may obtain a copy of the License at\n",
              "//\n",
              "//      http://www.apache.org/licenses/LICENSE-2.0\n",
              "//\n",
              "// Unless required by applicable law or agreed to in writing, software\n",
              "// distributed under the License is distributed on an \"AS IS\" BASIS,\n",
              "// WITHOUT WARRANTIES OR CONDITIONS OF ANY KIND, either express or implied.\n",
              "// See the License for the specific language governing permissions and\n",
              "// limitations under the License.\n",
              "\n",
              "/**\n",
              " * @fileoverview Helpers for google.colab Python module.\n",
              " */\n",
              "(function(scope) {\n",
              "function span(text, styleAttributes = {}) {\n",
              "  const element = document.createElement('span');\n",
              "  element.textContent = text;\n",
              "  for (const key of Object.keys(styleAttributes)) {\n",
              "    element.style[key] = styleAttributes[key];\n",
              "  }\n",
              "  return element;\n",
              "}\n",
              "\n",
              "// Max number of bytes which will be uploaded at a time.\n",
              "const MAX_PAYLOAD_SIZE = 100 * 1024;\n",
              "\n",
              "function _uploadFiles(inputId, outputId) {\n",
              "  const steps = uploadFilesStep(inputId, outputId);\n",
              "  const outputElement = document.getElementById(outputId);\n",
              "  // Cache steps on the outputElement to make it available for the next call\n",
              "  // to uploadFilesContinue from Python.\n",
              "  outputElement.steps = steps;\n",
              "\n",
              "  return _uploadFilesContinue(outputId);\n",
              "}\n",
              "\n",
              "// This is roughly an async generator (not supported in the browser yet),\n",
              "// where there are multiple asynchronous steps and the Python side is going\n",
              "// to poll for completion of each step.\n",
              "// This uses a Promise to block the python side on completion of each step,\n",
              "// then passes the result of the previous step as the input to the next step.\n",
              "function _uploadFilesContinue(outputId) {\n",
              "  const outputElement = document.getElementById(outputId);\n",
              "  const steps = outputElement.steps;\n",
              "\n",
              "  const next = steps.next(outputElement.lastPromiseValue);\n",
              "  return Promise.resolve(next.value.promise).then((value) => {\n",
              "    // Cache the last promise value to make it available to the next\n",
              "    // step of the generator.\n",
              "    outputElement.lastPromiseValue = value;\n",
              "    return next.value.response;\n",
              "  });\n",
              "}\n",
              "\n",
              "/**\n",
              " * Generator function which is called between each async step of the upload\n",
              " * process.\n",
              " * @param {string} inputId Element ID of the input file picker element.\n",
              " * @param {string} outputId Element ID of the output display.\n",
              " * @return {!Iterable<!Object>} Iterable of next steps.\n",
              " */\n",
              "function* uploadFilesStep(inputId, outputId) {\n",
              "  const inputElement = document.getElementById(inputId);\n",
              "  inputElement.disabled = false;\n",
              "\n",
              "  const outputElement = document.getElementById(outputId);\n",
              "  outputElement.innerHTML = '';\n",
              "\n",
              "  const pickedPromise = new Promise((resolve) => {\n",
              "    inputElement.addEventListener('change', (e) => {\n",
              "      resolve(e.target.files);\n",
              "    });\n",
              "  });\n",
              "\n",
              "  const cancel = document.createElement('button');\n",
              "  inputElement.parentElement.appendChild(cancel);\n",
              "  cancel.textContent = 'Cancel upload';\n",
              "  const cancelPromise = new Promise((resolve) => {\n",
              "    cancel.onclick = () => {\n",
              "      resolve(null);\n",
              "    };\n",
              "  });\n",
              "\n",
              "  // Wait for the user to pick the files.\n",
              "  const files = yield {\n",
              "    promise: Promise.race([pickedPromise, cancelPromise]),\n",
              "    response: {\n",
              "      action: 'starting',\n",
              "    }\n",
              "  };\n",
              "\n",
              "  cancel.remove();\n",
              "\n",
              "  // Disable the input element since further picks are not allowed.\n",
              "  inputElement.disabled = true;\n",
              "\n",
              "  if (!files) {\n",
              "    return {\n",
              "      response: {\n",
              "        action: 'complete',\n",
              "      }\n",
              "    };\n",
              "  }\n",
              "\n",
              "  for (const file of files) {\n",
              "    const li = document.createElement('li');\n",
              "    li.append(span(file.name, {fontWeight: 'bold'}));\n",
              "    li.append(span(\n",
              "        `(${file.type || 'n/a'}) - ${file.size} bytes, ` +\n",
              "        `last modified: ${\n",
              "            file.lastModifiedDate ? file.lastModifiedDate.toLocaleDateString() :\n",
              "                                    'n/a'} - `));\n",
              "    const percent = span('0% done');\n",
              "    li.appendChild(percent);\n",
              "\n",
              "    outputElement.appendChild(li);\n",
              "\n",
              "    const fileDataPromise = new Promise((resolve) => {\n",
              "      const reader = new FileReader();\n",
              "      reader.onload = (e) => {\n",
              "        resolve(e.target.result);\n",
              "      };\n",
              "      reader.readAsArrayBuffer(file);\n",
              "    });\n",
              "    // Wait for the data to be ready.\n",
              "    let fileData = yield {\n",
              "      promise: fileDataPromise,\n",
              "      response: {\n",
              "        action: 'continue',\n",
              "      }\n",
              "    };\n",
              "\n",
              "    // Use a chunked sending to avoid message size limits. See b/62115660.\n",
              "    let position = 0;\n",
              "    do {\n",
              "      const length = Math.min(fileData.byteLength - position, MAX_PAYLOAD_SIZE);\n",
              "      const chunk = new Uint8Array(fileData, position, length);\n",
              "      position += length;\n",
              "\n",
              "      const base64 = btoa(String.fromCharCode.apply(null, chunk));\n",
              "      yield {\n",
              "        response: {\n",
              "          action: 'append',\n",
              "          file: file.name,\n",
              "          data: base64,\n",
              "        },\n",
              "      };\n",
              "\n",
              "      let percentDone = fileData.byteLength === 0 ?\n",
              "          100 :\n",
              "          Math.round((position / fileData.byteLength) * 100);\n",
              "      percent.textContent = `${percentDone}% done`;\n",
              "\n",
              "    } while (position < fileData.byteLength);\n",
              "  }\n",
              "\n",
              "  // All done.\n",
              "  yield {\n",
              "    response: {\n",
              "      action: 'complete',\n",
              "    }\n",
              "  };\n",
              "}\n",
              "\n",
              "scope.google = scope.google || {};\n",
              "scope.google.colab = scope.google.colab || {};\n",
              "scope.google.colab._files = {\n",
              "  _uploadFiles,\n",
              "  _uploadFilesContinue,\n",
              "};\n",
              "})(self);\n",
              "</script> "
            ]
          },
          "metadata": {}
        },
        {
          "output_type": "stream",
          "name": "stdout",
          "text": [
            "Saving forced_convection_data.csv to forced_convection_data (1).csv\n"
          ]
        }
      ]
    },
    {
      "cell_type": "code",
      "source": [
        "data = pd.read_csv(io.BytesIO(list(uploaded.values())[0]))"
      ],
      "metadata": {
        "id": "lmD48jQBZEpk"
      },
      "execution_count": null,
      "outputs": []
    },
    {
      "cell_type": "markdown",
      "source": [
        "**Section 3: Define Inputs and Outputs**\n",
        "\n",
        "*Now, we will identify the input features (the data the model will use to make predictions) and the output labels (what we want the model to predict). This is an important step for setting up a supervised machine learning task.*"
      ],
      "metadata": {
        "id": "llmh7-1qZICN"
      }
    },
    {
      "cell_type": "code",
      "source": [
        "# Define input and output columns\n",
        "numeric_inputs = [\"To\", \"Trod\"]      # Numeric features\n",
        "categorical_input = [\"Speed\"]        # Text/categorical feature\n",
        "output_col = [\"h\"]                    # Target label"
      ],
      "metadata": {
        "id": "RswW6wRSZKLd"
      },
      "execution_count": null,
      "outputs": []
    },
    {
      "cell_type": "markdown",
      "source": [
        "**Section 4: Split Data into Training and Test Sets**\n",
        "\n",
        "*Next, we will divide our dataset into training and testing sets. The training set is used to teach the model, while the testing set is used to see how well the model performs on new, unseen data. This helps us evaluate the model’s accuracy and reliability.*"
      ],
      "metadata": {
        "id": "rm2Ebpl1ZTVU"
      }
    },
    {
      "cell_type": "code",
      "source": [
        "# Split dataset into training (80%) and testing (20%)\n",
        "train_dataset = data.sample(frac=0.8, random_state=42)\n",
        "test_dataset = data.drop(train_dataset.index)"
      ],
      "metadata": {
        "id": "ERgtTdRJZVlk"
      },
      "execution_count": null,
      "outputs": []
    },
    {
      "cell_type": "markdown",
      "source": [
        "**Section 5: Normalize Data**\n",
        "\n",
        "*Neural networks work better when all input features are on a similar scale. Normalization rescales the data so that values are neither too big nor too small. This helps the model learn faster, converge more reliably, and avoid giving more importance to features just because they have larger numbers.*"
      ],
      "metadata": {
        "id": "bSMXQlqeZvsV"
      }
    },
    {
      "cell_type": "code",
      "source": [
        "# --- Inspect your columns ---\n",
        "print(\"Columns in the dataset:\", data.columns.tolist())\n",
        "\n",
        "# --- Automatically separate numeric and categorical features ---\n",
        "numeric_cols = data.select_dtypes(include=np.number).columns.tolist()\n",
        "categorical_cols = data.select_dtypes(exclude=np.number).columns.tolist()\n",
        "\n",
        "print(\"Numeric columns:\", numeric_cols)\n",
        "print(\"Categorical columns:\", categorical_cols)\n",
        "\n",
        "# --- Split dataset into training (80%) and testing (20%) ---\n",
        "train_dataset = data.sample(frac=0.8, random_state=42)\n",
        "test_dataset = data.drop(train_dataset.index)\n",
        "\n",
        "# --- Training stats for numeric normalization ---\n",
        "train_stats = train_dataset[numeric_cols].describe().transpose()\n",
        "\n",
        "# --- Normalize numeric features ---\n",
        "def normalize_numeric(df):\n",
        "    return (df - train_stats['mean']) / train_stats['std']\n",
        "\n",
        "normed_train_numeric = normalize_numeric(train_dataset[numeric_cols])\n",
        "normed_test_numeric = normalize_numeric(test_dataset[numeric_cols])\n",
        "\n",
        "# --- Handle categorical features using one-hot encoding ---\n",
        "train_cat = pd.get_dummies(train_dataset[categorical_cols])\n",
        "test_cat = pd.get_dummies(test_dataset[categorical_cols])\n",
        "\n",
        "# --- Ensure test set has same columns as train set ---\n",
        "test_cat = test_cat.reindex(columns=train_cat.columns, fill_value=0)\n",
        "\n",
        "# --- Combine numeric and categorical features ---\n",
        "normed_train_data = pd.concat([normed_train_numeric, train_cat], axis=1)\n",
        "normed_test_data = pd.concat([normed_test_numeric, test_cat], axis=1)\n",
        "\n",
        "# --- Separate labels ---\n",
        "output_col = [\"h\"]  # heat transfer coefficient\n",
        "train_labels = train_dataset[output_col]\n",
        "test_labels = test_dataset[output_col]\n",
        "\n",
        "# --- Display normalized and processed data ---\n",
        "print(\"Processed train data (first 5 rows):\")\n",
        "print(normed_train_data.head())\n",
        "print(\"\\nProcessed test data (first 5 rows):\")\n",
        "print(normed_test_data.head())\n"
      ],
      "metadata": {
        "colab": {
          "base_uri": "https://localhost:8080/"
        },
        "id": "uaWbpYJlZyWc",
        "outputId": "95fd0f68-47d9-4a78-bbc5-8c7388bb1f56"
      },
      "execution_count": null,
      "outputs": [
        {
          "output_type": "stream",
          "name": "stdout",
          "text": [
            "Columns in the dataset: ['To', 'Trod', 'Speed', 'h']\n",
            "Numeric columns: ['To', 'Trod', 'h']\n",
            "Categorical columns: ['Speed']\n",
            "Processed train data (first 5 rows):\n",
            "           To      Trod         h  Speed_H  Speed_L  Speed_M\n",
            "361  0.121168  1.272974  0.146530     True    False    False\n",
            "73   0.945153  1.517214  1.076195    False     True    False\n",
            "374  1.185410  1.416262 -0.156396     True    False    False\n",
            "155  1.549391  0.225090 -0.107095    False    False     True\n",
            "104 -0.932063 -1.133812  1.478933     True    False    False\n",
            "\n",
            "Processed test data (first 5 rows):\n",
            "          To      Trod         h  Speed_H  Speed_L  Speed_M\n",
            "1  -0.328628 -0.236304 -0.105176     True    False    False\n",
            "13  1.066259  1.058359  0.003969     True    False    False\n",
            "20  0.251746  0.823021 -1.549599    False     True    False\n",
            "21 -1.398020  1.214935 -0.388658    False     True    False\n",
            "34 -1.054344 -1.098850  0.468468     True    False    False\n"
          ]
        }
      ]
    },
    {
      "cell_type": "markdown",
      "source": [
        "**Section 6: Build the Model**\n",
        "\n",
        "*Now we will create our neural network. A neural network is made up of layers of neurons that process the input data. Each layer uses an activation function to help the network learn complex patterns. We’ll define the input layer (which takes our features), any hidden layers (which process the information), and the output layer (which makes predictions).*"
      ],
      "metadata": {
        "id": "e7lC6XVZb9qm"
      }
    },
    {
      "cell_type": "code",
      "source": [
        "num_inputs = normed_train_data.shape[1]  # automatically 5 or 9 depending on your numeric + one-hot\n",
        "num_outputs = 1  # since 'h' is a single target\n",
        "\n",
        "baseline_model = keras.Sequential([\n",
        "    layers.Input(shape=(num_inputs,)),\n",
        "    layers.Dense(64, activation='relu'),\n",
        "    layers.Dense(64, activation='relu'),\n",
        "    layers.Dense(64, activation='relu'),\n",
        "    layers.Dense(num_outputs)  # 5 outputs\n",
        "])\n",
        "\n",
        "optimizer = tf.keras.optimizers.Adam(learning_rate=0.001)\n",
        "baseline_model.compile(\n",
        "    optimizer=optimizer,\n",
        "    loss='mse',\n",
        "    metrics=['mae', 'mse']\n",
        ")\n",
        "\n",
        "baseline_model.summary()\n"
      ],
      "metadata": {
        "colab": {
          "base_uri": "https://localhost:8080/",
          "height": 267
        },
        "id": "_5-jBK6ccBiX",
        "outputId": "824908d5-6d40-45a3-e0a3-534eaba5eac7"
      },
      "execution_count": null,
      "outputs": [
        {
          "output_type": "display_data",
          "data": {
            "text/plain": [
              "\u001b[1mModel: \"sequential\"\u001b[0m\n"
            ],
            "text/html": [
              "<pre style=\"white-space:pre;overflow-x:auto;line-height:normal;font-family:Menlo,'DejaVu Sans Mono',consolas,'Courier New',monospace\"><span style=\"font-weight: bold\">Model: \"sequential\"</span>\n",
              "</pre>\n"
            ]
          },
          "metadata": {}
        },
        {
          "output_type": "display_data",
          "data": {
            "text/plain": [
              "┏━━━━━━━━━━━━━━━━━━━━━━━━━━━━━━━━━┳━━━━━━━━━━━━━━━━━━━━━━━━┳━━━━━━━━━━━━━━━┓\n",
              "┃\u001b[1m \u001b[0m\u001b[1mLayer (type)                   \u001b[0m\u001b[1m \u001b[0m┃\u001b[1m \u001b[0m\u001b[1mOutput Shape          \u001b[0m\u001b[1m \u001b[0m┃\u001b[1m \u001b[0m\u001b[1m      Param #\u001b[0m\u001b[1m \u001b[0m┃\n",
              "┡━━━━━━━━━━━━━━━━━━━━━━━━━━━━━━━━━╇━━━━━━━━━━━━━━━━━━━━━━━━╇━━━━━━━━━━━━━━━┩\n",
              "│ dense (\u001b[38;5;33mDense\u001b[0m)                   │ (\u001b[38;5;45mNone\u001b[0m, \u001b[38;5;34m64\u001b[0m)             │           \u001b[38;5;34m448\u001b[0m │\n",
              "├─────────────────────────────────┼────────────────────────┼───────────────┤\n",
              "│ dense_1 (\u001b[38;5;33mDense\u001b[0m)                 │ (\u001b[38;5;45mNone\u001b[0m, \u001b[38;5;34m64\u001b[0m)             │         \u001b[38;5;34m4,160\u001b[0m │\n",
              "├─────────────────────────────────┼────────────────────────┼───────────────┤\n",
              "│ dense_2 (\u001b[38;5;33mDense\u001b[0m)                 │ (\u001b[38;5;45mNone\u001b[0m, \u001b[38;5;34m64\u001b[0m)             │         \u001b[38;5;34m4,160\u001b[0m │\n",
              "├─────────────────────────────────┼────────────────────────┼───────────────┤\n",
              "│ dense_3 (\u001b[38;5;33mDense\u001b[0m)                 │ (\u001b[38;5;45mNone\u001b[0m, \u001b[38;5;34m1\u001b[0m)              │            \u001b[38;5;34m65\u001b[0m │\n",
              "└─────────────────────────────────┴────────────────────────┴───────────────┘\n"
            ],
            "text/html": [
              "<pre style=\"white-space:pre;overflow-x:auto;line-height:normal;font-family:Menlo,'DejaVu Sans Mono',consolas,'Courier New',monospace\">┏━━━━━━━━━━━━━━━━━━━━━━━━━━━━━━━━━┳━━━━━━━━━━━━━━━━━━━━━━━━┳━━━━━━━━━━━━━━━┓\n",
              "┃<span style=\"font-weight: bold\"> Layer (type)                    </span>┃<span style=\"font-weight: bold\"> Output Shape           </span>┃<span style=\"font-weight: bold\">       Param # </span>┃\n",
              "┡━━━━━━━━━━━━━━━━━━━━━━━━━━━━━━━━━╇━━━━━━━━━━━━━━━━━━━━━━━━╇━━━━━━━━━━━━━━━┩\n",
              "│ dense (<span style=\"color: #0087ff; text-decoration-color: #0087ff\">Dense</span>)                   │ (<span style=\"color: #00d7ff; text-decoration-color: #00d7ff\">None</span>, <span style=\"color: #00af00; text-decoration-color: #00af00\">64</span>)             │           <span style=\"color: #00af00; text-decoration-color: #00af00\">448</span> │\n",
              "├─────────────────────────────────┼────────────────────────┼───────────────┤\n",
              "│ dense_1 (<span style=\"color: #0087ff; text-decoration-color: #0087ff\">Dense</span>)                 │ (<span style=\"color: #00d7ff; text-decoration-color: #00d7ff\">None</span>, <span style=\"color: #00af00; text-decoration-color: #00af00\">64</span>)             │         <span style=\"color: #00af00; text-decoration-color: #00af00\">4,160</span> │\n",
              "├─────────────────────────────────┼────────────────────────┼───────────────┤\n",
              "│ dense_2 (<span style=\"color: #0087ff; text-decoration-color: #0087ff\">Dense</span>)                 │ (<span style=\"color: #00d7ff; text-decoration-color: #00d7ff\">None</span>, <span style=\"color: #00af00; text-decoration-color: #00af00\">64</span>)             │         <span style=\"color: #00af00; text-decoration-color: #00af00\">4,160</span> │\n",
              "├─────────────────────────────────┼────────────────────────┼───────────────┤\n",
              "│ dense_3 (<span style=\"color: #0087ff; text-decoration-color: #0087ff\">Dense</span>)                 │ (<span style=\"color: #00d7ff; text-decoration-color: #00d7ff\">None</span>, <span style=\"color: #00af00; text-decoration-color: #00af00\">1</span>)              │            <span style=\"color: #00af00; text-decoration-color: #00af00\">65</span> │\n",
              "└─────────────────────────────────┴────────────────────────┴───────────────┘\n",
              "</pre>\n"
            ]
          },
          "metadata": {}
        },
        {
          "output_type": "display_data",
          "data": {
            "text/plain": [
              "\u001b[1m Total params: \u001b[0m\u001b[38;5;34m8,833\u001b[0m (34.50 KB)\n"
            ],
            "text/html": [
              "<pre style=\"white-space:pre;overflow-x:auto;line-height:normal;font-family:Menlo,'DejaVu Sans Mono',consolas,'Courier New',monospace\"><span style=\"font-weight: bold\"> Total params: </span><span style=\"color: #00af00; text-decoration-color: #00af00\">8,833</span> (34.50 KB)\n",
              "</pre>\n"
            ]
          },
          "metadata": {}
        },
        {
          "output_type": "display_data",
          "data": {
            "text/plain": [
              "\u001b[1m Trainable params: \u001b[0m\u001b[38;5;34m8,833\u001b[0m (34.50 KB)\n"
            ],
            "text/html": [
              "<pre style=\"white-space:pre;overflow-x:auto;line-height:normal;font-family:Menlo,'DejaVu Sans Mono',consolas,'Courier New',monospace\"><span style=\"font-weight: bold\"> Trainable params: </span><span style=\"color: #00af00; text-decoration-color: #00af00\">8,833</span> (34.50 KB)\n",
              "</pre>\n"
            ]
          },
          "metadata": {}
        },
        {
          "output_type": "display_data",
          "data": {
            "text/plain": [
              "\u001b[1m Non-trainable params: \u001b[0m\u001b[38;5;34m0\u001b[0m (0.00 B)\n"
            ],
            "text/html": [
              "<pre style=\"white-space:pre;overflow-x:auto;line-height:normal;font-family:Menlo,'DejaVu Sans Mono',consolas,'Courier New',monospace\"><span style=\"font-weight: bold\"> Non-trainable params: </span><span style=\"color: #00af00; text-decoration-color: #00af00\">0</span> (0.00 B)\n",
              "</pre>\n"
            ]
          },
          "metadata": {}
        }
      ]
    },
    {
      "cell_type": "markdown",
      "source": [
        "**Section 7: Define Callback and Training Parameters**\n",
        "\n",
        "*Before training the model, we define training parameters like the number of epochs (how many times the model will see the full dataset) and callbacks (tools that help monitor or control training, like stopping early if the model stops improving). These settings help the model train efficiently and avoid overfitting.*"
      ],
      "metadata": {
        "id": "V-D7StMlcOCG"
      }
    },
    {
      "cell_type": "code",
      "source": [
        "# Callback to print progress\n",
        "class PrintDot(keras.callbacks.Callback):\n",
        "    def on_epoch_end(self, epoch, logs):\n",
        "        if epoch % 100 == 0:\n",
        "            print('')\n",
        "        print('.', end='')\n",
        "\n",
        "EPOCHS = 1000"
      ],
      "metadata": {
        "id": "VGuPSMaIcS1-"
      },
      "execution_count": null,
      "outputs": []
    },
    {
      "cell_type": "markdown",
      "source": [
        "**Section 8: Example Prediction Before Training**\n",
        "\n",
        "*Before we train the model, we can make a test prediction using random, untrained weights. This shows that initially, the model’s predictions are basically random and not accurate. It helps you understand how much the model improves after training.*"
      ],
      "metadata": {
        "id": "O52dtrtvcjwN"
      }
    },
    {
      "cell_type": "code",
      "source": [
        "example_batch = normed_train_data.head(5).astype(np.float32).values\n",
        "example_result = baseline_model.predict(example_batch)\n",
        "print(\"Example predictions (h for 1 output):\")\n",
        "print(example_result)\n"
      ],
      "metadata": {
        "colab": {
          "base_uri": "https://localhost:8080/"
        },
        "id": "Hg4UMzsZclxO",
        "outputId": "8fa9a367-0c38-4a54-a489-f8e4886c0796"
      },
      "execution_count": null,
      "outputs": [
        {
          "output_type": "stream",
          "name": "stdout",
          "text": [
            "\u001b[1m1/1\u001b[0m \u001b[32m━━━━━━━━━━━━━━━━━━━━\u001b[0m\u001b[37m\u001b[0m \u001b[1m0s\u001b[0m 250ms/step\n",
            "Example predictions (h for 1 output):\n",
            "[[-0.081]\n",
            " [-0.131]\n",
            " [-0.081]\n",
            " [-0.115]\n",
            " [-0.043]]\n"
          ]
        }
      ]
    },
    {
      "cell_type": "markdown",
      "source": [
        "**Section 9: Setup TensorBoard**\n",
        "\n",
        "*TensorBoard is a tool that lets us visualize and monitor our model’s training in real time. We can track metrics like loss and accuracy, see how the model improves over epochs, and spot problems early. Setting it up helps us understand what’s happening inside the neural network as it learns.*"
      ],
      "metadata": {
        "id": "94hlIxRwdfjE"
      }
    },
    {
      "cell_type": "code",
      "source": [
        "log_dir = \"logs/fit/\" + datetime.datetime.now().strftime(\"%Y%m%d-%H%M%S\")\n",
        "tensorboard_callback = tf.keras.callbacks.TensorBoard(log_dir=log_dir, histogram_freq=1)"
      ],
      "metadata": {
        "id": "gfTuBxlM8HuQ"
      },
      "execution_count": null,
      "outputs": []
    },
    {
      "cell_type": "markdown",
      "source": [
        "**Section 10: Train the Model**\n",
        "\n",
        "*Now we will train (fit) the model on our data. During training, the model learns the patterns in the input features to make better predictions. We can also use a validation split to check the model’s performance on unseen data while training, and callbacks to monitor progress or stop training early if needed. This step is where the model actually “learns.”*"
      ],
      "metadata": {
        "id": "jVKnF1_Pdq29"
      }
    },
    {
      "cell_type": "code",
      "source": [
        "history = baseline_model.fit(\n",
        "    normed_train_data,          # numeric + one-hot features\n",
        "    train_labels.values,       # corresponding outputs as numpy array\n",
        "    epochs=EPOCHS,\n",
        "    validation_split=0.2,\n",
        "    verbose=0,\n",
        "    callbacks=[tensorboard_callback, PrintDot()]\n",
        ")"
      ],
      "metadata": {
        "colab": {
          "base_uri": "https://localhost:8080/"
        },
        "id": "JxFn-Ojbdsfl",
        "outputId": "eff34a0f-726b-4d8e-8154-5bf6a5ed5564"
      },
      "execution_count": null,
      "outputs": [
        {
          "output_type": "stream",
          "name": "stdout",
          "text": [
            "\n",
            "....................................................................................................\n",
            "....................................................................................................\n",
            "....................................................................................................\n",
            "....................................................................................................\n",
            "....................................................................................................\n",
            "....................................................................................................\n",
            "....................................................................................................\n",
            "....................................................................................................\n",
            "....................................................................................................\n",
            "...................................................................................................."
          ]
        }
      ]
    },
    {
      "cell_type": "markdown",
      "source": [
        "**Section 11: Plot Training History**\n",
        "\n",
        "*After training, we can visualize the model’s learning curves using metrics like MAE (Mean Absolute Error) and MSE (Mean Squared Error). These plots show how the model’s predictions improve over time and help us understand if the model is learning well or if it might be overfitting.*"
      ],
      "metadata": {
        "id": "xBJ75Mnbe2ss"
      }
    },
    {
      "cell_type": "code",
      "source": [
        "def plot_history(history):\n",
        "    hist = pd.DataFrame(history.history)\n",
        "    hist['epoch'] = history.epoch\n",
        "\n",
        "    # MAE\n",
        "    plt.figure()\n",
        "    plt.plot(hist['epoch'], hist['mae'], label='Train MAE')\n",
        "    plt.plot(hist['epoch'], hist['val_mae'], label='Val MAE')\n",
        "    plt.xlabel('Epoch')\n",
        "    plt.ylabel('Mean Absolute Error')\n",
        "    plt.legend()\n",
        "    plt.show()\n",
        "\n",
        "    # MSE\n",
        "    plt.figure()\n",
        "    plt.plot(hist['epoch'], hist['mse'], label='Train MSE')\n",
        "    plt.plot(hist['epoch'], hist['val_mse'], label='Val MSE')\n",
        "    plt.xlabel('Epoch')\n",
        "    plt.ylabel('Mean Square Error')\n",
        "    plt.legend()\n",
        "    plt.show()\n",
        "\n",
        "plot_history(history)"
      ],
      "metadata": {
        "colab": {
          "base_uri": "https://localhost:8080/",
          "height": 883
        },
        "id": "obcTgpKSe6zq",
        "outputId": "342abf7c-5594-49ae-8963-b1bcf51ea5a9"
      },
      "execution_count": null,
      "outputs": [
        {
          "output_type": "display_data",
          "data": {
            "text/plain": [
              "<Figure size 640x480 with 1 Axes>"
            ],
            "image/png": "[encoded data removed]"
          },
          "metadata": {}
        },
        {
          "output_type": "display_data",
          "data": {
            "text/plain": [
              "<Figure size 640x480 with 1 Axes>"
            ],
            "image/png": "[encoded data removed]"
          },
          "metadata": {}
        }
      ]
    },
    {
      "cell_type": "markdown",
      "source": [
        "**Section 12: Test Predictions and Scatter Plot**\n",
        "\n",
        "*Finally, we will use the model to make predictions on the test data and compare them to the actual values. We can create a scatter plot to visualize how close the predictions are to the true values. This helps us see the model’s performance in a clear, visual way.*"
      ],
      "metadata": {
        "id": "IOBYK9O7fgab"
      }
    },
    {
      "cell_type": "code",
      "source": [
        "import matplotlib.pyplot as plt\n",
        "import seaborn as sns\n",
        "import numpy as np\n",
        "\n",
        "# Make predictions on test data\n",
        "X_test = normed_test_data.astype(np.float32).values  # ensure numeric dtype\n",
        "baseline_test_predictions = baseline_model.predict(X_test)\n",
        "\n",
        "# Combine predictions with Speed for plotting\n",
        "plot_df = test_dataset.copy()\n",
        "plot_df['h_pred'] = baseline_test_predictions[:, 0]  # predicted heat transfer coefficient\n",
        "\n",
        "plt.figure(figsize=(6,6))\n",
        "sns.scatterplot(\n",
        "    x='h',\n",
        "    y='h_pred',\n",
        "    hue='Speed',\n",
        "    data=plot_df,\n",
        "    palette={'H':'red', 'M':'green', 'L':'blue'},\n",
        "    s=60\n",
        ")\n",
        "\n",
        "plt.xlabel(\"Test Values [h]\")\n",
        "plt.ylabel(\"Predictions [h]\")\n",
        "plt.title(\"Predicted vs Actual Heat Transfer Coefficient\")\n",
        "plt.axis('equal')\n",
        "\n",
        "# 1:1 reference line\n",
        "min_val = min(plot_df['h'].min(), plot_df['h_pred'].min())\n",
        "max_val = max(plot_df['h'].max(), plot_df['h_pred'].max())\n",
        "plt.plot([min_val, max_val], [min_val, max_val], 'k--', lw=2)\n",
        "\n",
        "plt.show()\n",
        "\n"
      ],
      "metadata": {
        "colab": {
          "base_uri": "https://localhost:8080/",
          "height": 582
        },
        "id": "ddffIdeEfi1L",
        "outputId": "fa8a3c4d-8a2b-4d23-e50d-2aa5f9d01eb5"
      },
      "execution_count": null,
      "outputs": [
        {
          "output_type": "stream",
          "name": "stdout",
          "text": [
            "\u001b[1m4/4\u001b[0m \u001b[32m━━━━━━━━━━━━━━━━━━━━\u001b[0m\u001b[37m\u001b[0m \u001b[1m0s\u001b[0m 9ms/step \n"
          ]
        },
        {
          "output_type": "display_data",
          "data": {
            "text/plain": [
              "<Figure size 600x600 with 1 Axes>"
            ],
            "image/png": "[encoded data removed]"
          },
          "metadata": {}
        }
      ]
    },
    {
      "cell_type": "markdown",
      "source": [
        "**Section 13: Prediction Error Histograms**\n",
        "\n",
        "*We can also look at histograms of the prediction errors (the differences between predicted and actual values). This helps us see where the model is making bigger mistakes and understand its strengths and weaknesses for each output.*"
      ],
      "metadata": {
        "id": "a4V9qb_Lf6Y3"
      }
    },
    {
      "cell_type": "code",
      "source": [
        "# Compute prediction error\n",
        "baseline_error = baseline_test_predictions[:, 0] - test_dataset['h'].values\n",
        "\n",
        "# Plot error histogram\n",
        "plt.figure(figsize=(6,4))\n",
        "plt.hist(baseline_error, bins=20, color='skyblue', edgecolor='black')\n",
        "plt.xlabel(\"Prediction Error [h]\")\n",
        "plt.ylabel(\"Count\")\n",
        "plt.title(\"Error Distribution for Heat Transfer Coefficient\")\n",
        "plt.show()"
      ],
      "metadata": {
        "colab": {
          "base_uri": "https://localhost:8080/",
          "height": 410
        },
        "id": "C_iyX1yjf8GS",
        "outputId": "45bfa2b6-afd1-4a3e-ac83-4476c921d9c2"
      },
      "execution_count": null,
      "outputs": [
        {
          "output_type": "display_data",
          "data": {
            "text/plain": [
              "<Figure size 600x400 with 1 Axes>"
            ],
            "image/png": "[encoded data removed]"
          },
          "metadata": {}
        }
      ]
    },
    {
      "cell_type": "markdown",
      "source": [
        "# **Section 14: Let's test what ML has learned!**\n",
        "Use your input data as test to generate output data based on what Machine learning has learning in previous sections."
      ],
      "metadata": {
        "id": "XcxMghYcDPvi"
      }
    },
    {
      "cell_type": "code",
      "source": [
        "# ============================================================\n",
        "# Robust Section 14: Predict ML output for new input CSV\n",
        "# ============================================================\n",
        "from google.colab import files\n",
        "import io\n",
        "import pandas as pd\n",
        "import numpy as np\n",
        "\n",
        "print(\"Please upload a CSV file with columns: To, Trod, Speed\")\n",
        "uploaded_new = files.upload()\n",
        "new_input = pd.read_csv(io.BytesIO(list(uploaded_new.values())[0]))\n",
        "\n",
        "# --- Numeric columns to normalize ---\n",
        "numeric_input_cols = [\"To\", \"Trod\"]\n",
        "# Remove any output column if accidentally present\n",
        "safe_numeric_cols = [col for col in numeric_input_cols if col not in output_col]\n",
        "\n",
        "# --- Normalize numeric features ---\n",
        "normed_numeric = (new_input[safe_numeric_cols] - train_stats['mean'].reindex(safe_numeric_cols)) / train_stats['std'].reindex(safe_numeric_cols)\n",
        "\n",
        "# --- Categorical features ---\n",
        "categorical_input_cols = [\"Speed\"]\n",
        "cat_data = pd.get_dummies(new_input[categorical_input_cols])\n",
        "\n",
        "# --- Align categorical columns with training data ---\n",
        "cat_data = cat_data.reindex(columns=train_cat.columns, fill_value=0)\n",
        "\n",
        "# --- Combine numeric + categorical features ---\n",
        "final_input = pd.concat([normed_numeric, cat_data], axis=1)\n",
        "\n",
        "# --- Add any missing numeric columns that exist in training data but not in new input ---\n",
        "for col in normed_train_data.columns:\n",
        "    if col not in final_input.columns:\n",
        "        final_input[col] = 0  # fill missing columns with 0\n",
        "\n",
        "# --- Ensure column order matches training data ---\n",
        "final_input = final_input[normed_train_data.columns]\n",
        "\n",
        "# --- Convert all to float32 ---\n",
        "final_input = final_input.apply(pd.to_numeric, errors='coerce').fillna(0)\n",
        "\n",
        "# --- DEBUG: print shapes ---\n",
        "print(\"\\nTraining columns:\", normed_train_data.shape[1])\n",
        "print(\"Final input columns:\", final_input.shape[1])\n",
        "\n",
        "# --- Predict ---\n",
        "preds = baseline_model.predict(final_input.values.astype(np.float32))\n",
        "\n",
        "# --- Merge predictions with input data ---\n",
        "pred_df = new_input.copy()\n",
        "pred_df['h_pred'] = preds[:, 0]\n",
        "\n",
        "# --- Show predictions ---\n",
        "print(\"\\nPredictions for uploaded data:\")\n",
        "print(pred_df.head())\n",
        "\n",
        "# --- Save predictions and provide download link ---\n",
        "output_filename = \"predictions_with_inputs.csv\"\n",
        "pred_df.to_csv(output_filename, index=False)\n",
        "print(f\"\\nPredictions saved to '{output_filename}'\")\n",
        "files.download(output_filename)\n"
      ],
      "metadata": {
        "id": "ZIgyF-sj_kdp",
        "outputId": "fe45cb06-cbcd-4722-a0d8-ec76e9897465",
        "colab": {
          "base_uri": "https://localhost:8080/",
          "height": 349
        }
      },
      "execution_count": 21,
      "outputs": [
        {
          "output_type": "stream",
          "name": "stdout",
          "text": [
            "Please upload a CSV file with columns: To, Trod, Speed\n"
          ]
        },
        {
          "output_type": "display_data",
          "data": {
            "text/plain": [
              "<IPython.core.display.HTML object>"
            ],
            "text/html": [
              "\n",
              "     <input type=\"file\" id=\"files-3b7a8278-676d-49e7-b23e-421a4a770890\" name=\"files[]\" multiple disabled\n",
              "        style=\"border:none\" />\n",
              "     <output id=\"result-3b7a8278-676d-49e7-b23e-421a4a770890\">\n",
              "      Upload widget is only available when the cell has been executed in the\n",
              "      current browser session. Please rerun this cell to enable.\n",
              "      </output>\n",
              "      <script>// Copyright 2017 Google LLC\n",
              "//\n",
              "// Licensed under the Apache License, Version 2.0 (the \"License\");\n",
              "// you may not use this file except in compliance with the License.\n",
              "// You may obtain a copy of the License at\n",
              "//\n",
              "//      http://www.apache.org/licenses/LICENSE-2.0\n",
              "//\n",
              "// Unless required by applicable law or agreed to in writing, software\n",
              "// distributed under the License is distributed on an \"AS IS\" BASIS,\n",
              "// WITHOUT WARRANTIES OR CONDITIONS OF ANY KIND, either express or implied.\n",
              "// See the License for the specific language governing permissions and\n",
              "// limitations under the License.\n",
              "\n",
              "/**\n",
              " * @fileoverview Helpers for google.colab Python module.\n",
              " */\n",
              "(function(scope) {\n",
              "function span(text, styleAttributes = {}) {\n",
              "  const element = document.createElement('span');\n",
              "  element.textContent = text;\n",
              "  for (const key of Object.keys(styleAttributes)) {\n",
              "    element.style[key] = styleAttributes[key];\n",
              "  }\n",
              "  return element;\n",
              "}\n",
              "\n",
              "// Max number of bytes which will be uploaded at a time.\n",
              "const MAX_PAYLOAD_SIZE = 100 * 1024;\n",
              "\n",
              "function _uploadFiles(inputId, outputId) {\n",
              "  const steps = uploadFilesStep(inputId, outputId);\n",
              "  const outputElement = document.getElementById(outputId);\n",
              "  // Cache steps on the outputElement to make it available for the next call\n",
              "  // to uploadFilesContinue from Python.\n",
              "  outputElement.steps = steps;\n",
              "\n",
              "  return _uploadFilesContinue(outputId);\n",
              "}\n",
              "\n",
              "// This is roughly an async generator (not supported in the browser yet),\n",
              "// where there are multiple asynchronous steps and the Python side is going\n",
              "// to poll for completion of each step.\n",
              "// This uses a Promise to block the python side on completion of each step,\n",
              "// then passes the result of the previous step as the input to the next step.\n",
              "function _uploadFilesContinue(outputId) {\n",
              "  const outputElement = document.getElementById(outputId);\n",
              "  const steps = outputElement.steps;\n",
              "\n",
              "  const next = steps.next(outputElement.lastPromiseValue);\n",
              "  return Promise.resolve(next.value.promise).then((value) => {\n",
              "    // Cache the last promise value to make it available to the next\n",
              "    // step of the generator.\n",
              "    outputElement.lastPromiseValue = value;\n",
              "    return next.value.response;\n",
              "  });\n",
              "}\n",
              "\n",
              "/**\n",
              " * Generator function which is called between each async step of the upload\n",
              " * process.\n",
              " * @param {string} inputId Element ID of the input file picker element.\n",
              " * @param {string} outputId Element ID of the output display.\n",
              " * @return {!Iterable<!Object>} Iterable of next steps.\n",
              " */\n",
              "function* uploadFilesStep(inputId, outputId) {\n",
              "  const inputElement = document.getElementById(inputId);\n",
              "  inputElement.disabled = false;\n",
              "\n",
              "  const outputElement = document.getElementById(outputId);\n",
              "  outputElement.innerHTML = '';\n",
              "\n",
              "  const pickedPromise = new Promise((resolve) => {\n",
              "    inputElement.addEventListener('change', (e) => {\n",
              "      resolve(e.target.files);\n",
              "    });\n",
              "  });\n",
              "\n",
              "  const cancel = document.createElement('button');\n",
              "  inputElement.parentElement.appendChild(cancel);\n",
              "  cancel.textContent = 'Cancel upload';\n",
              "  const cancelPromise = new Promise((resolve) => {\n",
              "    cancel.onclick = () => {\n",
              "      resolve(null);\n",
              "    };\n",
              "  });\n",
              "\n",
              "  // Wait for the user to pick the files.\n",
              "  const files = yield {\n",
              "    promise: Promise.race([pickedPromise, cancelPromise]),\n",
              "    response: {\n",
              "      action: 'starting',\n",
              "    }\n",
              "  };\n",
              "\n",
              "  cancel.remove();\n",
              "\n",
              "  // Disable the input element since further picks are not allowed.\n",
              "  inputElement.disabled = true;\n",
              "\n",
              "  if (!files) {\n",
              "    return {\n",
              "      response: {\n",
              "        action: 'complete',\n",
              "      }\n",
              "    };\n",
              "  }\n",
              "\n",
              "  for (const file of files) {\n",
              "    const li = document.createElement('li');\n",
              "    li.append(span(file.name, {fontWeight: 'bold'}));\n",
              "    li.append(span(\n",
              "        `(${file.type || 'n/a'}) - ${file.size} bytes, ` +\n",
              "        `last modified: ${\n",
              "            file.lastModifiedDate ? file.lastModifiedDate.toLocaleDateString() :\n",
              "                                    'n/a'} - `));\n",
              "    const percent = span('0% done');\n",
              "    li.appendChild(percent);\n",
              "\n",
              "    outputElement.appendChild(li);\n",
              "\n",
              "    const fileDataPromise = new Promise((resolve) => {\n",
              "      const reader = new FileReader();\n",
              "      reader.onload = (e) => {\n",
              "        resolve(e.target.result);\n",
              "      };\n",
              "      reader.readAsArrayBuffer(file);\n",
              "    });\n",
              "    // Wait for the data to be ready.\n",
              "    let fileData = yield {\n",
              "      promise: fileDataPromise,\n",
              "      response: {\n",
              "        action: 'continue',\n",
              "      }\n",
              "    };\n",
              "\n",
              "    // Use a chunked sending to avoid message size limits. See b/62115660.\n",
              "    let position = 0;\n",
              "    do {\n",
              "      const length = Math.min(fileData.byteLength - position, MAX_PAYLOAD_SIZE);\n",
              "      const chunk = new Uint8Array(fileData, position, length);\n",
              "      position += length;\n",
              "\n",
              "      const base64 = btoa(String.fromCharCode.apply(null, chunk));\n",
              "      yield {\n",
              "        response: {\n",
              "          action: 'append',\n",
              "          file: file.name,\n",
              "          data: base64,\n",
              "        },\n",
              "      };\n",
              "\n",
              "      let percentDone = fileData.byteLength === 0 ?\n",
              "          100 :\n",
              "          Math.round((position / fileData.byteLength) * 100);\n",
              "      percent.textContent = `${percentDone}% done`;\n",
              "\n",
              "    } while (position < fileData.byteLength);\n",
              "  }\n",
              "\n",
              "  // All done.\n",
              "  yield {\n",
              "    response: {\n",
              "      action: 'complete',\n",
              "    }\n",
              "  };\n",
              "}\n",
              "\n",
              "scope.google = scope.google || {};\n",
              "scope.google.colab = scope.google.colab || {};\n",
              "scope.google.colab._files = {\n",
              "  _uploadFiles,\n",
              "  _uploadFilesContinue,\n",
              "};\n",
              "})(self);\n",
              "</script> "
            ]
          },
          "metadata": {}
        },
        {
          "output_type": "stream",
          "name": "stdout",
          "text": [
            "Saving Convection_Test.csv to Convection_Test (5).csv\n",
            "\n",
            "Training columns: 6\n",
            "Final input columns: 6\n",
            "\u001b[1m2/2\u001b[0m \u001b[32m━━━━━━━━━━━━━━━━━━━━\u001b[0m\u001b[37m\u001b[0m \u001b[1m0s\u001b[0m 23ms/step\n",
            "\n",
            "Predictions for uploaded data:\n",
            "   To  Trod Speed      h_pred\n",
            "0  24    41     M  138.201355\n",
            "1  21    40     M  135.094101\n",
            "2  22    37     M  134.949921\n",
            "3  24    38     M  135.881042\n",
            "4  20    41     L  146.191635\n",
            "\n",
            "Predictions saved to 'predictions_with_inputs.csv'\n"
          ]
        },
        {
          "output_type": "display_data",
          "data": {
            "text/plain": [
              "<IPython.core.display.Javascript object>"
            ],
            "application/javascript": [
              "\n",
              "    async function download(id, filename, size) {\n",
              "      if (!google.colab.kernel.accessAllowed) {\n",
              "        return;\n",
              "      }\n",
              "      const div = document.createElement('div');\n",
              "      const label = document.createElement('label');\n",
              "      label.textContent = `Downloading \"${filename}\": `;\n",
              "      div.appendChild(label);\n",
              "      const progress = document.createElement('progress');\n",
              "      progress.max = size;\n",
              "      div.appendChild(progress);\n",
              "      document.body.appendChild(div);\n",
              "\n",
              "      const buffers = [];\n",
              "      let downloaded = 0;\n",
              "\n",
              "      const channel = await google.colab.kernel.comms.open(id);\n",
              "      // Send a message to notify the kernel that we're ready.\n",
              "      channel.send({})\n",
              "\n",
              "      for await (const message of channel.messages) {\n",
              "        // Send a message to notify the kernel that we're ready.\n",
              "        channel.send({})\n",
              "        if (message.buffers) {\n",
              "          for (const buffer of message.buffers) {\n",
              "            buffers.push(buffer);\n",
              "            downloaded += buffer.byteLength;\n",
              "            progress.value = downloaded;\n",
              "          }\n",
              "        }\n",
              "      }\n",
              "      const blob = new Blob(buffers, {type: 'application/binary'});\n",
              "      const a = document.createElement('a');\n",
              "      a.href = window.URL.createObjectURL(blob);\n",
              "      a.download = filename;\n",
              "      div.appendChild(a);\n",
              "      a.click();\n",
              "      div.remove();\n",
              "    }\n",
              "  "
            ]
          },
          "metadata": {}
        },
        {
          "output_type": "display_data",
          "data": {
            "text/plain": [
              "<IPython.core.display.Javascript object>"
            ],
            "application/javascript": [
              "download(\"download_a7351808-d623-47a4-a4ce-4a1c01a0045c\", \"predictions_with_inputs.csv\", 913)"
            ]
          },
          "metadata": {}
        }
      ]
    }
  ]
}